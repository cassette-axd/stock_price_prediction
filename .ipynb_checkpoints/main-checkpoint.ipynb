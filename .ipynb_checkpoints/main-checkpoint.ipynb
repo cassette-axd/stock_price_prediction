{
 "cells": [
  {
   "cell_type": "code",
   "execution_count": 8,
   "id": "6f626b49-6606-4f55-ab93-d81015f09d6c",
   "metadata": {},
   "outputs": [
    {
     "ename": "NameError",
     "evalue": "name 'sys' is not defined",
     "output_type": "error",
     "traceback": [
      "\u001b[31m---------------------------------------------------------------------------\u001b[39m",
      "\u001b[31mNameError\u001b[39m                                 Traceback (most recent call last)",
      "\u001b[36mCell\u001b[39m\u001b[36m \u001b[39m\u001b[32mIn[8]\u001b[39m\u001b[32m, line 19\u001b[39m\n\u001b[32m     15\u001b[39m \u001b[38;5;28;01mfrom\u001b[39;00m\u001b[38;5;250m \u001b[39m\u001b[34;01msklearn\u001b[39;00m\u001b[34;01m.\u001b[39;00m\u001b[34;01mmetrics\u001b[39;00m\u001b[38;5;250m \u001b[39m\u001b[38;5;28;01mimport\u001b[39;00m root_mean_squared_error \u001b[38;5;66;03m# for evaluating our model\u001b[39;00m\n\u001b[32m     17\u001b[39m \u001b[38;5;66;03m# run this if you have any import errors\u001b[39;00m\n\u001b[32m     18\u001b[39m \u001b[38;5;66;03m# import sys\u001b[39;00m\n\u001b[32m---> \u001b[39m\u001b[32m19\u001b[39m \u001b[38;5;28mprint\u001b[39m(\u001b[43msys\u001b[49m.executable)\n\u001b[32m     20\u001b[39m \u001b[38;5;66;03m# then in your terminal run /path/to/python -m pip install {module}\u001b[39;00m\n\u001b[32m     21\u001b[39m \u001b[38;5;28mprint\u001b[39m(\u001b[33m\"\u001b[39m\u001b[33mLibraries successfully installed\u001b[39m\u001b[33m\"\u001b[39m)\n",
      "\u001b[31mNameError\u001b[39m: name 'sys' is not defined"
     ]
    }
   ],
   "source": [
    "# install libraries\n",
    "\n",
    "import numpy as np # for working with arrays\n",
    "import pandas as pd # for working with data set, data frame structure\n",
    "import yfinance as yf # for using Yahoo finance API\n",
    "import matplotlib.pyplot as plt # for data visualization\n",
    "\n",
    "# build and train everything with the neural network\n",
    "import torch \n",
    "import torch.nn as nn\n",
    "import torch.optim as optim\n",
    "\n",
    "\n",
    "from sklearn.preprocessing import StandardScaler # for scaling data\n",
    "from sklearn.metrics import root_mean_squared_error # for evaluating our model\n",
    "\n",
    "# run this if you have any import errors\n",
    "import sys\n",
    "print(sys.executable)\n",
    "# then in your terminal run /path/to/python -m pip install {module}\n",
    "print(\"Libraries successfully installed\")"
   ]
  },
  {
   "cell_type": "code",
   "execution_count": 2,
   "id": "d84673d4-5b9f-4daa-8415-417ce27daa9c",
   "metadata": {},
   "outputs": [
    {
     "data": {
      "text/plain": [
       "device(type='cpu')"
      ]
     },
     "execution_count": 2,
     "metadata": {},
     "output_type": "execute_result"
    }
   ],
   "source": [
    "device = torch.device('cuda' if torch.cuda.is_available() else 'cpu') # Use GPU for processing large tensors and matrix operations if available\n",
    "device"
   ]
  },
  {
   "cell_type": "code",
   "execution_count": 3,
   "id": "9550471d-1a49-4fe6-903f-c5b3a5d6696f",
   "metadata": {},
   "outputs": [
    {
     "name": "stderr",
     "output_type": "stream",
     "text": [
      "/var/folders/qy/c074xc497m3gm7r7q1b3qyvm0000gn/T/ipykernel_48091/3191595310.py:6: FutureWarning: YF.download() has changed argument auto_adjust default to True\n",
      "  df = yf.download(ticker, '2020-01-01')\n",
      "[*********************100%***********************]  1 of 1 completed\n"
     ]
    },
    {
     "data": {
      "text/html": [
       "<div>\n",
       "<style scoped>\n",
       "    .dataframe tbody tr th:only-of-type {\n",
       "        vertical-align: middle;\n",
       "    }\n",
       "\n",
       "    .dataframe tbody tr th {\n",
       "        vertical-align: top;\n",
       "    }\n",
       "\n",
       "    .dataframe thead tr th {\n",
       "        text-align: left;\n",
       "    }\n",
       "\n",
       "    .dataframe thead tr:last-of-type th {\n",
       "        text-align: right;\n",
       "    }\n",
       "</style>\n",
       "<table border=\"1\" class=\"dataframe\">\n",
       "  <thead>\n",
       "    <tr>\n",
       "      <th>Price</th>\n",
       "      <th>Close</th>\n",
       "      <th>High</th>\n",
       "      <th>Low</th>\n",
       "      <th>Open</th>\n",
       "      <th>Volume</th>\n",
       "    </tr>\n",
       "    <tr>\n",
       "      <th>Ticker</th>\n",
       "      <th>AAPL</th>\n",
       "      <th>AAPL</th>\n",
       "      <th>AAPL</th>\n",
       "      <th>AAPL</th>\n",
       "      <th>AAPL</th>\n",
       "    </tr>\n",
       "    <tr>\n",
       "      <th>Date</th>\n",
       "      <th></th>\n",
       "      <th></th>\n",
       "      <th></th>\n",
       "      <th></th>\n",
       "      <th></th>\n",
       "    </tr>\n",
       "  </thead>\n",
       "  <tbody>\n",
       "    <tr>\n",
       "      <th>2020-01-02</th>\n",
       "      <td>72.620842</td>\n",
       "      <td>72.681289</td>\n",
       "      <td>71.373218</td>\n",
       "      <td>71.627092</td>\n",
       "      <td>135480400</td>\n",
       "    </tr>\n",
       "    <tr>\n",
       "      <th>2020-01-03</th>\n",
       "      <td>71.914825</td>\n",
       "      <td>72.676454</td>\n",
       "      <td>71.689965</td>\n",
       "      <td>71.847125</td>\n",
       "      <td>146322800</td>\n",
       "    </tr>\n",
       "    <tr>\n",
       "      <th>2020-01-06</th>\n",
       "      <td>72.487862</td>\n",
       "      <td>72.526549</td>\n",
       "      <td>70.783263</td>\n",
       "      <td>71.034724</td>\n",
       "      <td>118387200</td>\n",
       "    </tr>\n",
       "    <tr>\n",
       "      <th>2020-01-07</th>\n",
       "      <td>72.146927</td>\n",
       "      <td>72.753808</td>\n",
       "      <td>71.926900</td>\n",
       "      <td>72.497514</td>\n",
       "      <td>108872000</td>\n",
       "    </tr>\n",
       "    <tr>\n",
       "      <th>2020-01-08</th>\n",
       "      <td>73.307503</td>\n",
       "      <td>73.609737</td>\n",
       "      <td>71.849525</td>\n",
       "      <td>71.849525</td>\n",
       "      <td>132079200</td>\n",
       "    </tr>\n",
       "    <tr>\n",
       "      <th>...</th>\n",
       "      <td>...</td>\n",
       "      <td>...</td>\n",
       "      <td>...</td>\n",
       "      <td>...</td>\n",
       "      <td>...</td>\n",
       "    </tr>\n",
       "    <tr>\n",
       "      <th>2025-07-17</th>\n",
       "      <td>210.020004</td>\n",
       "      <td>211.800003</td>\n",
       "      <td>209.589996</td>\n",
       "      <td>210.570007</td>\n",
       "      <td>48068100</td>\n",
       "    </tr>\n",
       "    <tr>\n",
       "      <th>2025-07-18</th>\n",
       "      <td>211.179993</td>\n",
       "      <td>211.789993</td>\n",
       "      <td>209.699997</td>\n",
       "      <td>210.869995</td>\n",
       "      <td>48974600</td>\n",
       "    </tr>\n",
       "    <tr>\n",
       "      <th>2025-07-21</th>\n",
       "      <td>212.479996</td>\n",
       "      <td>215.779999</td>\n",
       "      <td>211.630005</td>\n",
       "      <td>212.100006</td>\n",
       "      <td>51377400</td>\n",
       "    </tr>\n",
       "    <tr>\n",
       "      <th>2025-07-22</th>\n",
       "      <td>214.399994</td>\n",
       "      <td>214.949997</td>\n",
       "      <td>212.229996</td>\n",
       "      <td>213.139999</td>\n",
       "      <td>46404100</td>\n",
       "    </tr>\n",
       "    <tr>\n",
       "      <th>2025-07-23</th>\n",
       "      <td>214.149994</td>\n",
       "      <td>215.100006</td>\n",
       "      <td>212.410004</td>\n",
       "      <td>215.044998</td>\n",
       "      <td>46415026</td>\n",
       "    </tr>\n",
       "  </tbody>\n",
       "</table>\n",
       "<p>1396 rows × 5 columns</p>\n",
       "</div>"
      ],
      "text/plain": [
       "Price            Close        High         Low        Open     Volume\n",
       "Ticker            AAPL        AAPL        AAPL        AAPL       AAPL\n",
       "Date                                                                 \n",
       "2020-01-02   72.620842   72.681289   71.373218   71.627092  135480400\n",
       "2020-01-03   71.914825   72.676454   71.689965   71.847125  146322800\n",
       "2020-01-06   72.487862   72.526549   70.783263   71.034724  118387200\n",
       "2020-01-07   72.146927   72.753808   71.926900   72.497514  108872000\n",
       "2020-01-08   73.307503   73.609737   71.849525   71.849525  132079200\n",
       "...                ...         ...         ...         ...        ...\n",
       "2025-07-17  210.020004  211.800003  209.589996  210.570007   48068100\n",
       "2025-07-18  211.179993  211.789993  209.699997  210.869995   48974600\n",
       "2025-07-21  212.479996  215.779999  211.630005  212.100006   51377400\n",
       "2025-07-22  214.399994  214.949997  212.229996  213.139999   46404100\n",
       "2025-07-23  214.149994  215.100006  212.410004  215.044998   46415026\n",
       "\n",
       "[1396 rows x 5 columns]"
      ]
     },
     "execution_count": 3,
     "metadata": {},
     "output_type": "execute_result"
    }
   ],
   "source": [
    "# A ticker (short for ticker symbol) is a unique series of letters assigned to a publicly traded company's stock for identification on a stock exchange\n",
    "\n",
    "ticker = 'AAPL' # ticker for Apple\n",
    "\n",
    "# uses the yfinance library to download historical stock price data for Apple Inc. starting from January 1, 2024 up to the current date\n",
    "df = yf.download(ticker, '2020-01-01')\n",
    "df"
   ]
  },
  {
   "cell_type": "code",
   "execution_count": 4,
   "id": "55d28156-154a-4cfe-8d9d-1454cdeb079a",
   "metadata": {},
   "outputs": [
    {
     "data": {
      "text/plain": [
       "<Axes: xlabel='Date'>"
      ]
     },
     "execution_count": 4,
     "metadata": {},
     "output_type": "execute_result"
    },
    {
     "data": {
      "image/png": "[encoded data removed]",
      "text/plain": [
       "<Figure size 1200x800 with 1 Axes>"
      ]
     },
     "metadata": {},
     "output_type": "display_data"
    }
   ],
   "source": [
    "# visually plot the data\n",
    "df.Close.plot(figsize=(12, 8))"
   ]
  },
  {
   "cell_type": "code",
   "execution_count": 5,
   "id": "d08976bb-acb6-427c-9365-d97b2fde8c23",
   "metadata": {},
   "outputs": [
    {
     "data": {
      "text/html": [
       "<div>\n",
       "<style scoped>\n",
       "    .dataframe tbody tr th:only-of-type {\n",
       "        vertical-align: middle;\n",
       "    }\n",
       "\n",
       "    .dataframe tbody tr th {\n",
       "        vertical-align: top;\n",
       "    }\n",
       "\n",
       "    .dataframe thead th {\n",
       "        text-align: right;\n",
       "    }\n",
       "</style>\n",
       "<table border=\"1\" class=\"dataframe\">\n",
       "  <thead>\n",
       "    <tr style=\"text-align: right;\">\n",
       "      <th>Ticker</th>\n",
       "      <th>AAPL</th>\n",
       "    </tr>\n",
       "    <tr>\n",
       "      <th>Date</th>\n",
       "      <th></th>\n",
       "    </tr>\n",
       "  </thead>\n",
       "  <tbody>\n",
       "    <tr>\n",
       "      <th>2020-01-02</th>\n",
       "      <td>-1.925880</td>\n",
       "    </tr>\n",
       "    <tr>\n",
       "      <th>2020-01-03</th>\n",
       "      <td>-1.941753</td>\n",
       "    </tr>\n",
       "    <tr>\n",
       "      <th>2020-01-06</th>\n",
       "      <td>-1.928870</td>\n",
       "    </tr>\n",
       "    <tr>\n",
       "      <th>2020-01-07</th>\n",
       "      <td>-1.936535</td>\n",
       "    </tr>\n",
       "    <tr>\n",
       "      <th>2020-01-08</th>\n",
       "      <td>-1.910441</td>\n",
       "    </tr>\n",
       "    <tr>\n",
       "      <th>...</th>\n",
       "      <td>...</td>\n",
       "    </tr>\n",
       "    <tr>\n",
       "      <th>2025-07-17</th>\n",
       "      <td>1.163335</td>\n",
       "    </tr>\n",
       "    <tr>\n",
       "      <th>2025-07-18</th>\n",
       "      <td>1.189416</td>\n",
       "    </tr>\n",
       "    <tr>\n",
       "      <th>2025-07-21</th>\n",
       "      <td>1.218644</td>\n",
       "    </tr>\n",
       "    <tr>\n",
       "      <th>2025-07-22</th>\n",
       "      <td>1.261812</td>\n",
       "    </tr>\n",
       "    <tr>\n",
       "      <th>2025-07-23</th>\n",
       "      <td>1.256192</td>\n",
       "    </tr>\n",
       "  </tbody>\n",
       "</table>\n",
       "<p>1396 rows × 1 columns</p>\n",
       "</div>"
      ],
      "text/plain": [
       "Ticker          AAPL\n",
       "Date                \n",
       "2020-01-02 -1.925880\n",
       "2020-01-03 -1.941753\n",
       "2020-01-06 -1.928870\n",
       "2020-01-07 -1.936535\n",
       "2020-01-08 -1.910441\n",
       "...              ...\n",
       "2025-07-17  1.163335\n",
       "2025-07-18  1.189416\n",
       "2025-07-21  1.218644\n",
       "2025-07-22  1.261812\n",
       "2025-07-23  1.256192\n",
       "\n",
       "[1396 rows x 1 columns]"
      ]
     },
     "execution_count": 5,
     "metadata": {},
     "output_type": "execute_result"
    }
   ],
   "source": [
    "scaler = StandardScaler()\n",
    "\n",
    "# scale all of the data to fit distribution\n",
    "df['Close'] = scaler.fit_transform(df['Close'])\n",
    "df.Close # produce the close values in a normal distribution with the mean of 0 and a standard deviation of 1"
   ]
  },
  {
   "cell_type": "code",
   "execution_count": 6,
   "id": "694cce10-4830-4ffc-9bc4-4748cb69538d",
   "metadata": {},
   "outputs": [
    {
     "data": {
      "text/plain": [
       "array([[[-1.92587975],\n",
       "        [-1.94175347],\n",
       "        [-1.92886961],\n",
       "        ...,\n",
       "        [-1.81705452],\n",
       "        [-1.77569559],\n",
       "        [-1.78839214]],\n",
       "\n",
       "       [[-1.94175347],\n",
       "        [-1.92886961],\n",
       "        [-1.93653502],\n",
       "        ...,\n",
       "        [-1.77569559],\n",
       "        [-1.78839214],\n",
       "        [-1.78795609]],\n",
       "\n",
       "       [[-1.92886961],\n",
       "        [-1.93653502],\n",
       "        [-1.91044121],\n",
       "        ...,\n",
       "        [-1.78839214],\n",
       "        [-1.78795609],\n",
       "        [-1.82037854]],\n",
       "\n",
       "       ...,\n",
       "\n",
       "       [[ 0.95221485],\n",
       "        [ 1.02618543],\n",
       "        [ 0.97065115],\n",
       "        ...,\n",
       "        [ 1.16648263],\n",
       "        [ 1.16333495],\n",
       "        [ 1.18941555]],\n",
       "\n",
       "       [[ 1.02618543],\n",
       "        [ 0.97065115],\n",
       "        [ 0.99808105],\n",
       "        ...,\n",
       "        [ 1.16333495],\n",
       "        [ 1.18941555],\n",
       "        [ 1.21864418]],\n",
       "\n",
       "       [[ 0.97065115],\n",
       "        [ 0.99808105],\n",
       "        [ 0.91062023],\n",
       "        ...,\n",
       "        [ 1.18941555],\n",
       "        [ 1.21864418],\n",
       "        [ 1.26181247]]], shape=(1366, 30, 1))"
      ]
     },
     "execution_count": 6,
     "metadata": {},
     "output_type": "execute_result"
    }
   ],
   "source": [
    "# prepare the data for out neural network\n",
    "# we want at any point and time to look at the past x days, where x is some arbitrary integer, and predict what the stock price will be for the next day (next data point)\n",
    "\n",
    "seq_length = 30 # how many days we would like to consider\n",
    "data = []\n",
    "\n",
    "# look at the first 29th days and then try to predict the 30th day\n",
    "for i in range(len(df) - seq_length):\n",
    "    data.append(df.Close[i:i+seq_length]) # have overlap bc if we want to keep predicting the next day (look at visual)\n",
    "\n",
    "data = np.array(data)\n",
    "data"
   ]
  },
  {
   "cell_type": "code",
   "execution_count": 7,
   "id": "8472ac82-d844-4630-b10b-599ba88e908e",
   "metadata": {},
   "outputs": [
    {
     "ename": "RuntimeError",
     "evalue": "Numpy is not available",
     "output_type": "error",
     "traceback": [
      "\u001b[31m---------------------------------------------------------------------------\u001b[39m",
      "\u001b[31mRuntimeError\u001b[39m                              Traceback (most recent call last)",
      "\u001b[36mCell\u001b[39m\u001b[36m \u001b[39m\u001b[32mIn[7]\u001b[39m\u001b[32m, line 4\u001b[39m\n\u001b[32m      1\u001b[39m \u001b[38;5;66;03m# train the first 80% of the data (use for input) for sequential predicting\u001b[39;00m\n\u001b[32m      2\u001b[39m train_size = \u001b[38;5;28mint\u001b[39m(\u001b[32m0.8\u001b[39m * \u001b[38;5;28mlen\u001b[39m(data)) \n\u001b[32m----> \u001b[39m\u001b[32m4\u001b[39m X_train = \u001b[43mtorch\u001b[49m\u001b[43m.\u001b[49m\u001b[43mfrom_numpy\u001b[49m\u001b[43m(\u001b[49m\u001b[43mdata\u001b[49m\u001b[43m[\u001b[49m\u001b[43m:\u001b[49m\u001b[43mtrain_size\u001b[49m\u001b[43m,\u001b[49m\u001b[43m \u001b[49m\u001b[43m:\u001b[49m\u001b[43m-\u001b[49m\u001b[32;43m1\u001b[39;49m\u001b[43m,\u001b[49m\u001b[43m \u001b[49m\u001b[43m:\u001b[49m\u001b[43m]\u001b[49m\u001b[43m)\u001b[49m \u001b[38;5;66;03m# 1st dimension (outter most), 2nd dimension, 3rd dimension (inner most) respectively (29 days)\u001b[39;00m\n\u001b[32m      5\u001b[39m y_train = torch.from_numpy(data[:train_size, -\u001b[32m1\u001b[39m, :]) \u001b[38;5;66;03m#  remove colon in 2nd dimension bc only interested in the last element (30th day)\u001b[39;00m\n\u001b[32m      6\u001b[39m X_test = torch.from_numpy(data[train_size:, -\u001b[32m1\u001b[39m, :])\n",
      "\u001b[31mRuntimeError\u001b[39m: Numpy is not available"
     ]
    }
   ],
   "source": [
    "# train the first 80% of the data (use for input) for sequential predicting\n",
    "train_size = int(0.8 * len(data)) \n",
    "\n",
    "X_train = torch.from_numpy(data[:train_size, :-1, :]) # 1st dimension (outter most), 2nd dimension, 3rd dimension (inner most) respectively (29 days)\n",
    "y_train = torch.from_numpy(data[:train_size, -1, :]) #  remove colon in 2nd dimension bc only interested in the last element (30th day)\n",
    "X_test = torch.from_numpy(data[train_size:, -1, :])\n",
    "y_test = torch.from_numpy(data[train_size:, -1, :])"
   ]
  },
  {
   "cell_type": "code",
   "execution_count": null,
   "id": "0b681a6e-7e61-4a44-bcd3-1e7550baae4b",
   "metadata": {},
   "outputs": [],
   "source": []
  }
 ],
 "metadata": {
  "kernelspec": {
   "display_name": "Python 3 (ipykernel)",
   "language": "python",
   "name": "python3"
  },
  "language_info": {
   "codemirror_mode": {
    "name": "ipython",
    "version": 3
   },
   "file_extension": ".py",
   "mimetype": "text/x-python",
   "name": "python",
   "nbconvert_exporter": "python",
   "pygments_lexer": "ipython3",
   "version": "3.12.2"
  }
 },
 "nbformat": 4,
 "nbformat_minor": 5
}
